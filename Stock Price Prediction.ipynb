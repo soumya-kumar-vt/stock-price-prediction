{
  "nbformat": 4,
  "nbformat_minor": 0,
  "metadata": {
    "colab": {
      "name": "Untitled3.ipynb",
      "provenance": []
    },
    "kernelspec": {
      "name": "python3",
      "display_name": "Python 3"
    },
    "accelerator": "GPU"
  },
  "cells": [
    {
      "cell_type": "code",
      "metadata": {
        "id": "PVoA3QX3K_Ax",
        "colab_type": "code",
        "colab": {}
      },
      "source": [
        "import re\n",
        "import pandas as pd\n",
        "import numpy as np\n",
        "from sklearn.metrics import accuracy_score\n",
        "import sys\n",
        "import os\n",
        "\n",
        "from keras.preprocessing import sequence\n",
        "from keras.utils import np_utils\n",
        "from keras.models import Sequential\n",
        "from keras.layers.core import Dense, Dropout, Activation, Lambda\n",
        "from keras.layers.embeddings import Embedding\n",
        "from keras.layers.recurrent import GRU\n",
        "from keras.layers import LSTM\n",
        "from keras.preprocessing.text import Tokenizer\n",
        "from keras import backend as K\n",
        "from sklearn.preprocessing import MinMaxScaler\n",
        "\n",
        "np.random.seed(10)\n",
        "%matplotlib inline"
      ],
      "execution_count": 0,
      "outputs": []
    },
    {
      "cell_type": "code",
      "metadata": {
        "id": "OhVMN52bLWeP",
        "colab_type": "code",
        "colab": {}
      },
      "source": [
        "data = pd.read_csv('Combined_News_DJIA.csv')\n",
        "data['Date'] = pd.to_datetime(data.Date)\n",
        "train_split = 0.8\n",
        "total_count = data.shape[0]\n",
        "train_cut = int(total_count* train_split)\n",
        "train = data.loc[: train_cut-1, :]\n",
        "test = data.loc[train_cut :, :]\n",
        "y_train = np.array(train[\"Label\"])\n",
        "y_test = np.array(test[\"Label\"])"
      ],
      "execution_count": 0,
      "outputs": []
    },
    {
      "cell_type": "code",
      "metadata": {
        "id": "Qh0VdAiMLgq2",
        "colab_type": "code",
        "outputId": "b3fd854c-377d-4f52-e98e-894a9eb5b2d0",
        "colab": {
          "base_uri": "https://localhost:8080/",
          "height": 695
        }
      },
      "source": [
        "train.head()"
      ],
      "execution_count": 0,
      "outputs": [
        {
          "output_type": "execute_result",
          "data": {
            "text/html": [
              "<div>\n",
              "<style scoped>\n",
              "    .dataframe tbody tr th:only-of-type {\n",
              "        vertical-align: middle;\n",
              "    }\n",
              "\n",
              "    .dataframe tbody tr th {\n",
              "        vertical-align: top;\n",
              "    }\n",
              "\n",
              "    .dataframe thead th {\n",
              "        text-align: right;\n",
              "    }\n",
              "</style>\n",
              "<table border=\"1\" class=\"dataframe\">\n",
              "  <thead>\n",
              "    <tr style=\"text-align: right;\">\n",
              "      <th></th>\n",
              "      <th>Date</th>\n",
              "      <th>Label</th>\n",
              "      <th>Top1</th>\n",
              "      <th>Top2</th>\n",
              "      <th>Top3</th>\n",
              "      <th>Top4</th>\n",
              "      <th>Top5</th>\n",
              "      <th>Top6</th>\n",
              "      <th>Top7</th>\n",
              "      <th>Top8</th>\n",
              "      <th>...</th>\n",
              "      <th>Top16</th>\n",
              "      <th>Top17</th>\n",
              "      <th>Top18</th>\n",
              "      <th>Top19</th>\n",
              "      <th>Top20</th>\n",
              "      <th>Top21</th>\n",
              "      <th>Top22</th>\n",
              "      <th>Top23</th>\n",
              "      <th>Top24</th>\n",
              "      <th>Top25</th>\n",
              "    </tr>\n",
              "  </thead>\n",
              "  <tbody>\n",
              "    <tr>\n",
              "      <th>0</th>\n",
              "      <td>2008-08-08</td>\n",
              "      <td>0</td>\n",
              "      <td>b\"Georgia 'downs two Russian warplanes' as cou...</td>\n",
              "      <td>b'BREAKING: Musharraf to be impeached.'</td>\n",
              "      <td>b'Russia Today: Columns of troops roll into So...</td>\n",
              "      <td>b'Russian tanks are moving towards the capital...</td>\n",
              "      <td>b\"Afghan children raped with 'impunity,' U.N. ...</td>\n",
              "      <td>b'150 Russian tanks have entered South Ossetia...</td>\n",
              "      <td>b\"Breaking: Georgia invades South Ossetia, Rus...</td>\n",
              "      <td>b\"The 'enemy combatent' trials are nothing but...</td>\n",
              "      <td>...</td>\n",
              "      <td>b'Georgia Invades South Ossetia - if Russia ge...</td>\n",
              "      <td>b'Al-Qaeda Faces Islamist Backlash'</td>\n",
              "      <td>b'Condoleezza Rice: \"The US would not act to p...</td>\n",
              "      <td>b'This is a busy day:  The European Union has ...</td>\n",
              "      <td>b\"Georgia will withdraw 1,000 soldiers from Ir...</td>\n",
              "      <td>b'Why the Pentagon Thinks Attacking Iran is a ...</td>\n",
              "      <td>b'Caucasus in crisis: Georgia invades South Os...</td>\n",
              "      <td>b'Indian shoe manufactory  - And again in a se...</td>\n",
              "      <td>b'Visitors Suffering from Mental Illnesses Ban...</td>\n",
              "      <td>b\"No Help for Mexico's Kidnapping Surge\"</td>\n",
              "    </tr>\n",
              "    <tr>\n",
              "      <th>1</th>\n",
              "      <td>2008-08-11</td>\n",
              "      <td>1</td>\n",
              "      <td>b'Why wont America and Nato help us? If they w...</td>\n",
              "      <td>b'Bush puts foot down on Georgian conflict'</td>\n",
              "      <td>b\"Jewish Georgian minister: Thanks to Israeli ...</td>\n",
              "      <td>b'Georgian army flees in disarray as Russians ...</td>\n",
              "      <td>b\"Olympic opening ceremony fireworks 'faked'\"</td>\n",
              "      <td>b'What were the Mossad with fraudulent New Zea...</td>\n",
              "      <td>b'Russia angered by Israeli military sale to G...</td>\n",
              "      <td>b'An American citizen living in S.Ossetia blam...</td>\n",
              "      <td>...</td>\n",
              "      <td>b'Israel and the US behind the Georgian aggres...</td>\n",
              "      <td>b'\"Do not believe TV, neither Russian nor Geor...</td>\n",
              "      <td>b'Riots are still going on in Montreal (Canada...</td>\n",
              "      <td>b'China to overtake US as largest manufacturer'</td>\n",
              "      <td>b'War in South Ossetia [PICS]'</td>\n",
              "      <td>b'Israeli Physicians Group Condemns State Tort...</td>\n",
              "      <td>b' Russia has just beaten the United States ov...</td>\n",
              "      <td>b'Perhaps *the* question about the Georgia - R...</td>\n",
              "      <td>b'Russia is so much better at war'</td>\n",
              "      <td>b\"So this is what it's come to: trading sex fo...</td>\n",
              "    </tr>\n",
              "    <tr>\n",
              "      <th>2</th>\n",
              "      <td>2008-08-12</td>\n",
              "      <td>0</td>\n",
              "      <td>b'Remember that adorable 9-year-old who sang a...</td>\n",
              "      <td>b\"Russia 'ends Georgia operation'\"</td>\n",
              "      <td>b'\"If we had no sexual harassment we would hav...</td>\n",
              "      <td>b\"Al-Qa'eda is losing support in Iraq because ...</td>\n",
              "      <td>b'Ceasefire in Georgia: Putin Outmaneuvers the...</td>\n",
              "      <td>b'Why Microsoft and Intel tried to kill the XO...</td>\n",
              "      <td>b'Stratfor: The Russo-Georgian War and the Bal...</td>\n",
              "      <td>b\"I'm Trying to Get a Sense of This Whole Geor...</td>\n",
              "      <td>...</td>\n",
              "      <td>b'U.S. troops still in Georgia (did you know t...</td>\n",
              "      <td>b'Why Russias response to Georgia was right'</td>\n",
              "      <td>b'Gorbachev accuses U.S. of making a \"serious ...</td>\n",
              "      <td>b'Russia, Georgia, and NATO: Cold War Two'</td>\n",
              "      <td>b'Remember that adorable 62-year-old who led y...</td>\n",
              "      <td>b'War in Georgia: The Israeli connection'</td>\n",
              "      <td>b'All signs point to the US encouraging Georgi...</td>\n",
              "      <td>b'Christopher King argues that the US and NATO...</td>\n",
              "      <td>b'America: The New Mexico?'</td>\n",
              "      <td>b\"BBC NEWS | Asia-Pacific | Extinction 'by man...</td>\n",
              "    </tr>\n",
              "    <tr>\n",
              "      <th>3</th>\n",
              "      <td>2008-08-13</td>\n",
              "      <td>0</td>\n",
              "      <td>b' U.S. refuses Israel weapons to attack Iran:...</td>\n",
              "      <td>b\"When the president ordered to attack Tskhinv...</td>\n",
              "      <td>b' Israel clears troops who killed Reuters cam...</td>\n",
              "      <td>b'Britain\\'s policy of being tough on drugs is...</td>\n",
              "      <td>b'Body of 14 year old found in trunk; Latest (...</td>\n",
              "      <td>b'China has moved 10 *million* quake survivors...</td>\n",
              "      <td>b\"Bush announces Operation Get All Up In Russi...</td>\n",
              "      <td>b'Russian forces sink Georgian ships '</td>\n",
              "      <td>...</td>\n",
              "      <td>b'Elephants extinct by 2020?'</td>\n",
              "      <td>b'US humanitarian missions soon in Georgia - i...</td>\n",
              "      <td>b\"Georgia's DDOS came from US sources\"</td>\n",
              "      <td>b'Russian convoy heads into Georgia, violating...</td>\n",
              "      <td>b'Israeli defence minister: US against strike ...</td>\n",
              "      <td>b'Gorbachev: We Had No Choice'</td>\n",
              "      <td>b'Witness: Russian forces head towards Tbilisi...</td>\n",
              "      <td>b' Quarter of Russians blame U.S. for conflict...</td>\n",
              "      <td>b'Georgian president  says US military will ta...</td>\n",
              "      <td>b'2006: Nobel laureate Aleksander Solzhenitsyn...</td>\n",
              "    </tr>\n",
              "    <tr>\n",
              "      <th>4</th>\n",
              "      <td>2008-08-14</td>\n",
              "      <td>1</td>\n",
              "      <td>b'All the experts admit that we should legalis...</td>\n",
              "      <td>b'War in South Osetia - 89 pictures made by a ...</td>\n",
              "      <td>b'Swedish wrestler Ara Abrahamian throws away ...</td>\n",
              "      <td>b'Russia exaggerated the death toll in South O...</td>\n",
              "      <td>b'Missile That Killed 9 Inside Pakistan May Ha...</td>\n",
              "      <td>b\"Rushdie Condemns Random House's Refusal to P...</td>\n",
              "      <td>b'Poland and US agree to missle defense deal. ...</td>\n",
              "      <td>b'Will the Russians conquer Tblisi? Bet on it,...</td>\n",
              "      <td>...</td>\n",
              "      <td>b'Bank analyst forecast Georgian crisis 2 days...</td>\n",
              "      <td>b\"Georgia confict could set back Russia's US r...</td>\n",
              "      <td>b'War in the Caucasus is as much the product o...</td>\n",
              "      <td>b'\"Non-media\" photos of South Ossetia/Georgia ...</td>\n",
              "      <td>b'Georgian TV reporter shot by Russian sniper ...</td>\n",
              "      <td>b'Saudi Arabia: Mother moves to block child ma...</td>\n",
              "      <td>b'Taliban wages war on humanitarian aid workers'</td>\n",
              "      <td>b'Russia: World  \"can forget about\" Georgia\\'s...</td>\n",
              "      <td>b'Darfur rebels accuse Sudan of mounting major...</td>\n",
              "      <td>b'Philippines : Peace Advocate say Muslims nee...</td>\n",
              "    </tr>\n",
              "  </tbody>\n",
              "</table>\n",
              "<p>5 rows × 27 columns</p>\n",
              "</div>"
            ],
            "text/plain": [
              "        Date  Label                                               Top1  \\\n",
              "0 2008-08-08      0  b\"Georgia 'downs two Russian warplanes' as cou...   \n",
              "1 2008-08-11      1  b'Why wont America and Nato help us? If they w...   \n",
              "2 2008-08-12      0  b'Remember that adorable 9-year-old who sang a...   \n",
              "3 2008-08-13      0  b' U.S. refuses Israel weapons to attack Iran:...   \n",
              "4 2008-08-14      1  b'All the experts admit that we should legalis...   \n",
              "\n",
              "                                                Top2  \\\n",
              "0            b'BREAKING: Musharraf to be impeached.'   \n",
              "1        b'Bush puts foot down on Georgian conflict'   \n",
              "2                 b\"Russia 'ends Georgia operation'\"   \n",
              "3  b\"When the president ordered to attack Tskhinv...   \n",
              "4  b'War in South Osetia - 89 pictures made by a ...   \n",
              "\n",
              "                                                Top3  \\\n",
              "0  b'Russia Today: Columns of troops roll into So...   \n",
              "1  b\"Jewish Georgian minister: Thanks to Israeli ...   \n",
              "2  b'\"If we had no sexual harassment we would hav...   \n",
              "3  b' Israel clears troops who killed Reuters cam...   \n",
              "4  b'Swedish wrestler Ara Abrahamian throws away ...   \n",
              "\n",
              "                                                Top4  \\\n",
              "0  b'Russian tanks are moving towards the capital...   \n",
              "1  b'Georgian army flees in disarray as Russians ...   \n",
              "2  b\"Al-Qa'eda is losing support in Iraq because ...   \n",
              "3  b'Britain\\'s policy of being tough on drugs is...   \n",
              "4  b'Russia exaggerated the death toll in South O...   \n",
              "\n",
              "                                                Top5  \\\n",
              "0  b\"Afghan children raped with 'impunity,' U.N. ...   \n",
              "1      b\"Olympic opening ceremony fireworks 'faked'\"   \n",
              "2  b'Ceasefire in Georgia: Putin Outmaneuvers the...   \n",
              "3  b'Body of 14 year old found in trunk; Latest (...   \n",
              "4  b'Missile That Killed 9 Inside Pakistan May Ha...   \n",
              "\n",
              "                                                Top6  \\\n",
              "0  b'150 Russian tanks have entered South Ossetia...   \n",
              "1  b'What were the Mossad with fraudulent New Zea...   \n",
              "2  b'Why Microsoft and Intel tried to kill the XO...   \n",
              "3  b'China has moved 10 *million* quake survivors...   \n",
              "4  b\"Rushdie Condemns Random House's Refusal to P...   \n",
              "\n",
              "                                                Top7  \\\n",
              "0  b\"Breaking: Georgia invades South Ossetia, Rus...   \n",
              "1  b'Russia angered by Israeli military sale to G...   \n",
              "2  b'Stratfor: The Russo-Georgian War and the Bal...   \n",
              "3  b\"Bush announces Operation Get All Up In Russi...   \n",
              "4  b'Poland and US agree to missle defense deal. ...   \n",
              "\n",
              "                                                Top8  ...  \\\n",
              "0  b\"The 'enemy combatent' trials are nothing but...  ...   \n",
              "1  b'An American citizen living in S.Ossetia blam...  ...   \n",
              "2  b\"I'm Trying to Get a Sense of This Whole Geor...  ...   \n",
              "3             b'Russian forces sink Georgian ships '  ...   \n",
              "4  b'Will the Russians conquer Tblisi? Bet on it,...  ...   \n",
              "\n",
              "                                               Top16  \\\n",
              "0  b'Georgia Invades South Ossetia - if Russia ge...   \n",
              "1  b'Israel and the US behind the Georgian aggres...   \n",
              "2  b'U.S. troops still in Georgia (did you know t...   \n",
              "3                      b'Elephants extinct by 2020?'   \n",
              "4  b'Bank analyst forecast Georgian crisis 2 days...   \n",
              "\n",
              "                                               Top17  \\\n",
              "0                b'Al-Qaeda Faces Islamist Backlash'   \n",
              "1  b'\"Do not believe TV, neither Russian nor Geor...   \n",
              "2       b'Why Russias response to Georgia was right'   \n",
              "3  b'US humanitarian missions soon in Georgia - i...   \n",
              "4  b\"Georgia confict could set back Russia's US r...   \n",
              "\n",
              "                                               Top18  \\\n",
              "0  b'Condoleezza Rice: \"The US would not act to p...   \n",
              "1  b'Riots are still going on in Montreal (Canada...   \n",
              "2  b'Gorbachev accuses U.S. of making a \"serious ...   \n",
              "3             b\"Georgia's DDOS came from US sources\"   \n",
              "4  b'War in the Caucasus is as much the product o...   \n",
              "\n",
              "                                               Top19  \\\n",
              "0  b'This is a busy day:  The European Union has ...   \n",
              "1    b'China to overtake US as largest manufacturer'   \n",
              "2         b'Russia, Georgia, and NATO: Cold War Two'   \n",
              "3  b'Russian convoy heads into Georgia, violating...   \n",
              "4  b'\"Non-media\" photos of South Ossetia/Georgia ...   \n",
              "\n",
              "                                               Top20  \\\n",
              "0  b\"Georgia will withdraw 1,000 soldiers from Ir...   \n",
              "1                     b'War in South Ossetia [PICS]'   \n",
              "2  b'Remember that adorable 62-year-old who led y...   \n",
              "3  b'Israeli defence minister: US against strike ...   \n",
              "4  b'Georgian TV reporter shot by Russian sniper ...   \n",
              "\n",
              "                                               Top21  \\\n",
              "0  b'Why the Pentagon Thinks Attacking Iran is a ...   \n",
              "1  b'Israeli Physicians Group Condemns State Tort...   \n",
              "2          b'War in Georgia: The Israeli connection'   \n",
              "3                     b'Gorbachev: We Had No Choice'   \n",
              "4  b'Saudi Arabia: Mother moves to block child ma...   \n",
              "\n",
              "                                               Top22  \\\n",
              "0  b'Caucasus in crisis: Georgia invades South Os...   \n",
              "1  b' Russia has just beaten the United States ov...   \n",
              "2  b'All signs point to the US encouraging Georgi...   \n",
              "3  b'Witness: Russian forces head towards Tbilisi...   \n",
              "4   b'Taliban wages war on humanitarian aid workers'   \n",
              "\n",
              "                                               Top23  \\\n",
              "0  b'Indian shoe manufactory  - And again in a se...   \n",
              "1  b'Perhaps *the* question about the Georgia - R...   \n",
              "2  b'Christopher King argues that the US and NATO...   \n",
              "3  b' Quarter of Russians blame U.S. for conflict...   \n",
              "4  b'Russia: World  \"can forget about\" Georgia\\'s...   \n",
              "\n",
              "                                               Top24  \\\n",
              "0  b'Visitors Suffering from Mental Illnesses Ban...   \n",
              "1                 b'Russia is so much better at war'   \n",
              "2                        b'America: The New Mexico?'   \n",
              "3  b'Georgian president  says US military will ta...   \n",
              "4  b'Darfur rebels accuse Sudan of mounting major...   \n",
              "\n",
              "                                               Top25  \n",
              "0           b\"No Help for Mexico's Kidnapping Surge\"  \n",
              "1  b\"So this is what it's come to: trading sex fo...  \n",
              "2  b\"BBC NEWS | Asia-Pacific | Extinction 'by man...  \n",
              "3  b'2006: Nobel laureate Aleksander Solzhenitsyn...  \n",
              "4  b'Philippines : Peace Advocate say Muslims nee...  \n",
              "\n",
              "[5 rows x 27 columns]"
            ]
          },
          "metadata": {
            "tags": []
          },
          "execution_count": 68
        }
      ]
    },
    {
      "cell_type": "code",
      "metadata": {
        "id": "OhGvix2kLmeA",
        "colab_type": "code",
        "colab": {}
      },
      "source": [
        "trainheadlines = []\n",
        "for row in range(0,len(train.index)):\n",
        "    trainheadlines.append(' '.join(str(x) for x in train.iloc[row,2:27]))"
      ],
      "execution_count": 0,
      "outputs": []
    },
    {
      "cell_type": "code",
      "metadata": {
        "id": "OKYq1W7OLq7m",
        "colab_type": "code",
        "colab": {}
      },
      "source": [
        "testheadlines = []\n",
        "for row in range(0,len(test.index)):\n",
        "    testheadlines.append(' '.join(str(x) for x in test.iloc[row,2:27]))"
      ],
      "execution_count": 0,
      "outputs": []
    },
    {
      "cell_type": "code",
      "metadata": {
        "id": "IWf3UsejLtyl",
        "colab_type": "code",
        "colab": {}
      },
      "source": [
        "def read_glove_vecs(glove_file):\n",
        "    with open(glove_file, 'r', encoding='utf-8') as f:\n",
        "        words = set()\n",
        "        word_to_vec_map = {}\n",
        "        for line in f:\n",
        "            line = line.strip().split()\n",
        "            curr_word = line[0]\n",
        "            words.add(curr_word)\n",
        "            word_to_vec_map[curr_word] = np.array(line[1:], dtype=np.float64)\n",
        "        \n",
        "        i = 1\n",
        "        words_to_index = {}\n",
        "        index_to_words = {}\n",
        "        for w in sorted(words):\n",
        "            words_to_index[w] = i\n",
        "            index_to_words[i] = w\n",
        "            i = i + 1\n",
        "    return words_to_index, index_to_words, word_to_vec_map\n",
        "\n",
        "def convert_to_one_hot(Y, C):\n",
        "    Y = np.eye(C)[Y.reshape(-1)]\n",
        "    return Y"
      ],
      "execution_count": 0,
      "outputs": []
    },
    {
      "cell_type": "code",
      "metadata": {
        "id": "Sn5Bnld-SCVW",
        "colab_type": "code",
        "colab": {}
      },
      "source": [
        ""
      ],
      "execution_count": 0,
      "outputs": []
    },
    {
      "cell_type": "code",
      "metadata": {
        "id": "pO8AZyzfL4KR",
        "colab_type": "code",
        "colab": {}
      },
      "source": [
        "word_to_index, index_to_word, word_to_vec_map = read_glove_vecs('glove.6B.50d.txt')"
      ],
      "execution_count": 0,
      "outputs": []
    },
    {
      "cell_type": "code",
      "metadata": {
        "id": "tJGwWG2OMPgd",
        "colab_type": "code",
        "outputId": "2d140109-b374-41ab-f875-d34a6560a427",
        "colab": {
          "base_uri": "https://localhost:8080/",
          "height": 34
        }
      },
      "source": [
        "word_to_vec_map['dog'].shape"
      ],
      "execution_count": 0,
      "outputs": [
        {
          "output_type": "execute_result",
          "data": {
            "text/plain": [
              "(50,)"
            ]
          },
          "metadata": {
            "tags": []
          },
          "execution_count": 73
        }
      ]
    },
    {
      "cell_type": "code",
      "metadata": {
        "id": "I36INLHhMcXb",
        "colab_type": "code",
        "colab": {}
      },
      "source": [
        "def sentences_to_indices(X, word_to_index, max_len):\n",
        "    \"\"\"\n",
        "    Converts an array of sentences (strings) into an array of indices corresponding to words in the sentences.\n",
        "    The output shape should be such that it can be given to `Embedding()`. \n",
        "    \n",
        "    Arguments:\n",
        "    X -- array of sentences (strings), of shape (m, 1)\n",
        "    word_to_index -- a dictionary containing the each word mapped to its index\n",
        "    max_len -- maximum number of words in a sentence. You can assume every sentence in X is no longer than this. \n",
        "    \n",
        "    Returns:\n",
        "    X_indices -- array of indices corresponding to words in the sentences from X, of shape (m, max_len)\n",
        "    \"\"\"\n",
        "    \n",
        "    m = X.shape[0]                                   # number of training examples\n",
        "    \n",
        "    # Initialize X_indices as a numpy matrix of zeros and the correct shape\n",
        "    X_indices = np.zeros((m, max_len), dtype=int)\n",
        "    \n",
        "    for i in range(m):                               # loop over training examples\n",
        "        \n",
        "        # Convert the ith training sentence in lower case and split is into words. You should get a list of words.\n",
        "        sentence_words = [w.lower() for w in X[i].split()]\n",
        "        \n",
        "        # Initialize j to 0\n",
        "        j = 0\n",
        "        \n",
        "        # Loop over the words of sentence_words\n",
        "        for w in sentence_words:\n",
        "            # Set the (i,j)th entry of X_indices to the index of the correct word.\n",
        "            if w in word_to_index:\n",
        "                X_indices[i, j] = word_to_index[w]\n",
        "                # Increment j to j + 1\n",
        "                j += 1\n",
        "                if j >= max_len:\n",
        "                    break\n",
        "            \n",
        "    return X_indices"
      ],
      "execution_count": 0,
      "outputs": []
    },
    {
      "cell_type": "code",
      "metadata": {
        "id": "QOMXhHYUMd7p",
        "colab_type": "code",
        "colab": {}
      },
      "source": [
        "strip_special_chars = re.compile(\"[^A-Za-z ]+\")\n",
        "\n",
        "def cleanSentences(string):\n",
        "    # remove b\"\n",
        "    string = string.lower().replace(\"b\\\"\", \" \")\n",
        "    # remove b\\'\n",
        "    string = string.lower().replace(\"b\\'\", \"\")\n",
        "    return re.sub(strip_special_chars, \"\", string.lower())"
      ],
      "execution_count": 0,
      "outputs": []
    },
    {
      "cell_type": "code",
      "metadata": {
        "id": "Pz2IeakMMkBf",
        "colab_type": "code",
        "outputId": "07adecc7-0f55-4037-eff7-4c2f0c558a29",
        "colab": {
          "base_uri": "https://localhost:8080/",
          "height": 34
        }
      },
      "source": [
        "a = ['b\"Georgia \\'downs']\n",
        "np.array(list(map(lambda x:cleanSentences(x), a)))"
      ],
      "execution_count": 0,
      "outputs": [
        {
          "output_type": "execute_result",
          "data": {
            "text/plain": [
              "array([' georgia downs'], dtype='<U14')"
            ]
          },
          "metadata": {
            "tags": []
          },
          "execution_count": 76
        }
      ]
    },
    {
      "cell_type": "code",
      "metadata": {
        "id": "wYqSX6A9MtZI",
        "colab_type": "code",
        "colab": {}
      },
      "source": [
        "X_train = np.array(list(map(lambda x:cleanSentences(x), trainheadlines)))\n",
        "X_test = np.array(list(map(lambda x:cleanSentences(x), testheadlines)))"
      ],
      "execution_count": 0,
      "outputs": []
    },
    {
      "cell_type": "code",
      "metadata": {
        "id": "mqeIKDU3Mvf-",
        "colab_type": "code",
        "outputId": "8d98fe44-667a-48ec-d403-c330fec8644d",
        "colab": {
          "base_uri": "https://localhost:8080/",
          "height": 54
        }
      },
      "source": [
        "X_train[7]"
      ],
      "execution_count": 0,
      "outputs": [
        {
          "output_type": "execute_result",
          "data": {
            "text/plain": [
              "' man arrested and locked up for five hours after taking photo of police van ignoring no entry sign the us missile defence system is the magic pudding that will never run out schrder lambasted for blaming russian conflict on georgia officials  french soldiers killed near kabul  these ten laws make china a totalitarian wasteland russia seizes us vehicles  muslims are only  of denmarks  million people but make up a majority of the countrys convicted rapists practically all the female victims are nonmuslim taliban forces kill  french soldiers and raid us base assaults kidnappings and killings of humanitarian aid workers have more than doubled in the past five years  south ossetia isnt kosovo finally an olympic image to take your mind off michael phelps  pic new york laser graffiti artist detained indefinitely in beijing for tibet protest art us left isolated over nato plans to maintain relations with russia  driven shai agassis audacious plan to put electric cars on the road  nato freezes russian ties over georgia brazil will play military war game to defend recently discovered offshore oil  fine for british woman caught sharing game online yearold grandma is oldest person on facebook today  years ago  august th  bombing of the un headquarters in iraq us national ken haywood whose computer was found to send threat emails after serial bomb blasts in india flees the country  taliban kill  french troops near afghan capital not everybody loves offshore wind power in spain taliban forces kill  french soldiers and raid us base  pakistan is more democratic than america  blaze engulfs egyptian parliament'"
            ]
          },
          "metadata": {
            "tags": []
          },
          "execution_count": 78
        }
      ]
    },
    {
      "cell_type": "code",
      "metadata": {
        "id": "-0qUUDSLM16I",
        "colab_type": "code",
        "outputId": "a16581b4-70f8-448a-c0f9-3b6c7a4aa694",
        "colab": {
          "base_uri": "https://localhost:8080/",
          "height": 286
        }
      },
      "source": [
        "X_train_lengths = list(map(lambda x: len(x.split()), X_train))\n",
        "df = pd.DataFrame({'counts': X_train_lengths})\n",
        "df.counts.plot.hist(bins = 40)"
      ],
      "execution_count": 0,
      "outputs": [
        {
          "output_type": "execute_result",
          "data": {
            "text/plain": [
              "<matplotlib.axes._subplots.AxesSubplot at 0x7f12d4c53da0>"
            ]
          },
          "metadata": {
            "tags": []
          },
          "execution_count": 98
        },
        {
          "output_type": "display_data",
          "data": {
            "image/png": "[encoded data removed]",
            "text/plain": [
              "<Figure size 432x288 with 1 Axes>"
            ]
          },
          "metadata": {
            "tags": []
          }
        }
      ]
    },
    {
      "cell_type": "code",
      "metadata": {
        "id": "Y4wbR2XCNnMS",
        "colab_type": "code",
        "outputId": "6b87a6e7-a046-4cd9-94e4-0e3b7d436477",
        "colab": {
          "base_uri": "https://localhost:8080/",
          "height": 51
        }
      },
      "source": [
        "X1 = np.array(['germany to meet with france'])\n",
        "X1_indices = sentences_to_indices(X1,word_to_index, max_len = 9)\n",
        "print(\"X1 =\", X1)\n",
        "print(\"X1_indices =\", X1_indices)"
      ],
      "execution_count": 0,
      "outputs": [
        {
          "output_type": "stream",
          "text": [
            "X1 = ['germany to meet with france']\n",
            "X1_indices = [[160180 360915 239785 388711 152927      0      0      0      0]]\n"
          ],
          "name": "stdout"
        }
      ]
    },
    {
      "cell_type": "code",
      "metadata": {
        "id": "VScHU5V3OCE2",
        "colab_type": "code",
        "colab": {}
      },
      "source": [
        "def pretrained_embedding_layer(word_to_vec_map, word_to_index):\n",
        "    \"\"\"\n",
        "    Creates a Keras Embedding() layer and loads in pre-trained GloVe 50-dimensional vectors.\n",
        "    \n",
        "    Arguments:\n",
        "    word_to_vec_map -- dictionary mapping words to their GloVe vector representation.\n",
        "    word_to_index -- dictionary mapping from words to their indices in the vocabulary (400,001 words)\n",
        "\n",
        "    Returns:\n",
        "    embedding_layer -- pretrained layer Keras instance\n",
        "    \"\"\"\n",
        "    \n",
        "    vocab_len = len(word_to_index) + 1                  # adding 1 to fit Keras embedding (requirement)\n",
        "    emb_dim = word_to_vec_map[\"cucumber\"].shape[0]      # define dimensionality of your GloVe word vectors (= 50)\n",
        "    \n",
        "    # Initialize the embedding matrix as a numpy array of zeros of shape (vocab_len, dimensions of word vectors = emb_dim)\n",
        "    emb_matrix = np.zeros((vocab_len, emb_dim))\n",
        "    \n",
        "    # Set each row \"index\" of the embedding matrix to be the word vector representation of the \"index\"th word of the vocabulary\n",
        "    for word, index in word_to_index.items():\n",
        "        emb_matrix[index, :] = word_to_vec_map[word]\n",
        "\n",
        "    # Define Keras embedding layer with the correct output/input sizes, make it trainable. Use Embedding(...). Make sure to set trainable=False. \n",
        "    embedding_layer = Embedding(vocab_len, emb_dim, trainable=True)\n",
        "    # Build the embedding layer, it is required before setting the weights of the embedding layer. Do not modify the \"None\".\n",
        "    embedding_layer.build((None,))\n",
        "    \n",
        "    # Set the weights of the embedding layer to the embedding matrix. Your layer is now pretrained.\n",
        "    embedding_layer.set_weights([emb_matrix])\n",
        "    \n",
        "    return embedding_layer"
      ],
      "execution_count": 0,
      "outputs": []
    },
    {
      "cell_type": "code",
      "metadata": {
        "id": "TNFB3zskOFU9",
        "colab_type": "code",
        "outputId": "12c08146-87d9-4148-efb9-43badeea14c0",
        "colab": {
          "base_uri": "https://localhost:8080/",
          "height": 241
        }
      },
      "source": [
        "embedding_layer = pretrained_embedding_layer(word_to_vec_map, word_to_index)\n",
        "embedding_layer.get_weights()[0][word_to_index['apple']]"
      ],
      "execution_count": 0,
      "outputs": [
        {
          "output_type": "stream",
          "text": [
            "WARNING:tensorflow:From /usr/local/lib/python3.6/dist-packages/tensorflow/python/framework/op_def_library.py:263: colocate_with (from tensorflow.python.framework.ops) is deprecated and will be removed in a future version.\n",
            "Instructions for updating:\n",
            "Colocations handled automatically by placer.\n"
          ],
          "name": "stdout"
        },
        {
          "output_type": "execute_result",
          "data": {
            "text/plain": [
              "array([ 0.52042 , -0.8314  ,  0.49961 ,  1.2893  ,  0.1151  ,  0.057521,\n",
              "       -1.3753  , -0.97313 ,  0.18346 ,  0.47672 , -0.15112 ,  0.35532 ,\n",
              "        0.25912 , -0.77857 ,  0.52181 ,  0.47695 , -1.4251  ,  0.858   ,\n",
              "        0.59821 , -1.0903  ,  0.33574 , -0.60891 ,  0.41742 ,  0.21569 ,\n",
              "       -0.07417 , -0.5822  , -0.4502  ,  0.17253 ,  0.16448 , -0.38413 ,\n",
              "        2.3283  , -0.66682 , -0.58181 ,  0.74389 ,  0.095015, -0.47865 ,\n",
              "       -0.84591 ,  0.38704 ,  0.23693 , -1.5523  ,  0.64802 , -0.16521 ,\n",
              "       -1.4719  , -0.16224 ,  0.79857 ,  0.97391 ,  0.40027 , -0.21912 ,\n",
              "       -0.30938 ,  0.26581 ], dtype=float32)"
            ]
          },
          "metadata": {
            "tags": []
          },
          "execution_count": 82
        }
      ]
    },
    {
      "cell_type": "code",
      "metadata": {
        "id": "fsmmOTanOb72",
        "colab_type": "code",
        "outputId": "56b0cf71-eafb-4dc4-b98e-58e4bd39e3d9",
        "colab": {
          "base_uri": "https://localhost:8080/",
          "height": 34
        }
      },
      "source": [
        "print('Building model 1...')\n",
        "model = Sequential()\n",
        "model.add(pretrained_embedding_layer(word_to_vec_map, word_to_index))\n",
        "model.add(GRU(128, dropout=0.2, return_sequences=True))\n",
        "model.add(GRU(128, dropout=0.2, return_sequences=True))\n",
        "model.add(GRU(128, dropout=0.2))\n",
        "model.add(Dense(1))\n",
        "model.add(Activation('sigmoid'))\n",
        "\n",
        "model.compile(loss='binary_crossentropy',\n",
        "              optimizer='adam',\n",
        "              metrics=['accuracy'])"
      ],
      "execution_count": 0,
      "outputs": [
        {
          "output_type": "stream",
          "text": [
            "Building model 1...\n"
          ],
          "name": "stdout"
        }
      ]
    },
    {
      "cell_type": "code",
      "metadata": {
        "id": "YAG-Yb67OfE7",
        "colab_type": "code",
        "outputId": "2fb11e8c-5cdd-4f17-c112-0442901f24c6",
        "colab": {
          "base_uri": "https://localhost:8080/",
          "height": 340
        }
      },
      "source": [
        "model.summary()"
      ],
      "execution_count": 0,
      "outputs": [
        {
          "output_type": "stream",
          "text": [
            "_________________________________________________________________\n",
            "Layer (type)                 Output Shape              Param #   \n",
            "=================================================================\n",
            "embedding_7 (Embedding)      (None, None, 50)          20000050  \n",
            "_________________________________________________________________\n",
            "gru_14 (GRU)                 (None, None, 128)         68736     \n",
            "_________________________________________________________________\n",
            "gru_15 (GRU)                 (None, None, 128)         98688     \n",
            "_________________________________________________________________\n",
            "gru_16 (GRU)                 (None, 128)               98688     \n",
            "_________________________________________________________________\n",
            "dense_2 (Dense)              (None, 1)                 129       \n",
            "_________________________________________________________________\n",
            "activation_2 (Activation)    (None, 1)                 0         \n",
            "=================================================================\n",
            "Total params: 20,266,291\n",
            "Trainable params: 20,266,291\n",
            "Non-trainable params: 0\n",
            "_________________________________________________________________\n"
          ],
          "name": "stdout"
        }
      ]
    },
    {
      "cell_type": "code",
      "metadata": {
        "id": "t2Y0pN_pOtk5",
        "colab_type": "code",
        "colab": {}
      },
      "source": [
        "maxlen = 500\n",
        "batch_size = 50\n",
        "X_train_indices = sentences_to_indices(X_train, word_to_index, maxlen)\n",
        "X_test_indices = sentences_to_indices(X_test, word_to_index, maxlen)"
      ],
      "execution_count": 0,
      "outputs": []
    },
    {
      "cell_type": "code",
      "metadata": {
        "id": "jaIYZwlgOv2p",
        "colab_type": "code",
        "colab": {}
      },
      "source": [
        "# nb_classes = 2\n",
        "# Y_train = np_utils.to_categorical(y_train, nb_classes)\n",
        "# Y_test = np_utils.to_categorical(y_test, nb_classes)\n",
        "Y_train = y_train.reshape((-1,1))\n",
        "Y_test = y_test.reshape((-1,1))"
      ],
      "execution_count": 0,
      "outputs": []
    },
    {
      "cell_type": "code",
      "metadata": {
        "id": "lXjKYWuSO43_",
        "colab_type": "code",
        "outputId": "13987fac-5654-4353-924c-3158912d03d1",
        "colab": {
          "base_uri": "https://localhost:8080/",
          "height": 3947
        }
      },
      "source": [
        "print('Train...')\n",
        "history = model.fit(X_train_indices, Y_train, batch_size=batch_size, epochs=500,\n",
        "          validation_data=(X_test_indices, Y_test))\n",
        "\n",
        "model.save(\"./model.h5\")\n",
        "score, acc = model.evaluate(X_test_indices, Y_test,\n",
        "                            batch_size=batch_size)\n",
        "print('Test score:', score)\n",
        "print('Test accuracy:', acc)"
      ],
      "execution_count": 0,
      "outputs": [
        {
          "output_type": "stream",
          "text": [
            "Train...\n",
            "Train on 1591 samples, validate on 398 samples\n",
            "Epoch 1/500\n",
            "1591/1591 [==============================] - 45s 28ms/step - loss: 0.6896 - acc: 0.5481 - val_loss: 0.6996 - val_acc: 0.5050\n",
            "Epoch 2/500\n",
            "1591/1591 [==============================] - 48s 30ms/step - loss: 0.6873 - acc: 0.5493 - val_loss: 0.6958 - val_acc: 0.5101\n",
            "Epoch 3/500\n",
            "1591/1591 [==============================] - 46s 29ms/step - loss: 0.6851 - acc: 0.5506 - val_loss: 0.7006 - val_acc: 0.5101\n",
            "Epoch 4/500\n",
            "1591/1591 [==============================] - 46s 29ms/step - loss: 0.6769 - acc: 0.5581 - val_loss: 0.7043 - val_acc: 0.5101\n",
            "Epoch 5/500\n",
            "1591/1591 [==============================] - 46s 29ms/step - loss: 0.6671 - acc: 0.5845 - val_loss: 0.7143 - val_acc: 0.5000\n",
            "Epoch 6/500\n",
            "1591/1591 [==============================] - 45s 28ms/step - loss: 0.6534 - acc: 0.5883 - val_loss: 0.7597 - val_acc: 0.4849\n",
            "Epoch 7/500\n",
            "1591/1591 [==============================] - 46s 29ms/step - loss: 0.6273 - acc: 0.6065 - val_loss: 0.7466 - val_acc: 0.4899\n",
            "Epoch 8/500\n",
            "1591/1591 [==============================] - 45s 28ms/step - loss: 0.6210 - acc: 0.6204 - val_loss: 0.7242 - val_acc: 0.5050\n",
            "Epoch 9/500\n",
            "1591/1591 [==============================] - 46s 29ms/step - loss: 0.5947 - acc: 0.6260 - val_loss: 0.7455 - val_acc: 0.5126\n",
            "Epoch 10/500\n",
            "1591/1591 [==============================] - 46s 29ms/step - loss: 0.5799 - acc: 0.6361 - val_loss: 0.9447 - val_acc: 0.4975\n",
            "Epoch 11/500\n",
            "1591/1591 [==============================] - 45s 28ms/step - loss: 0.5722 - acc: 0.6392 - val_loss: 0.9953 - val_acc: 0.4950\n",
            "Epoch 12/500\n",
            "1591/1591 [==============================] - 46s 29ms/step - loss: 0.5765 - acc: 0.6480 - val_loss: 0.8722 - val_acc: 0.5201\n",
            "Epoch 13/500\n",
            "1591/1591 [==============================] - 45s 28ms/step - loss: 0.5506 - acc: 0.6556 - val_loss: 0.8395 - val_acc: 0.4975\n",
            "Epoch 14/500\n",
            "1591/1591 [==============================] - 46s 29ms/step - loss: 0.5168 - acc: 0.6757 - val_loss: 0.8816 - val_acc: 0.4975\n",
            "Epoch 15/500\n",
            "1591/1591 [==============================] - 46s 29ms/step - loss: 0.5001 - acc: 0.7021 - val_loss: 0.9268 - val_acc: 0.5075\n",
            "Epoch 16/500\n",
            "1591/1591 [==============================] - 47s 29ms/step - loss: 0.4992 - acc: 0.6977 - val_loss: 0.9750 - val_acc: 0.4925\n",
            "Epoch 17/500\n",
            "1591/1591 [==============================] - 46s 29ms/step - loss: 0.4846 - acc: 0.7134 - val_loss: 0.9707 - val_acc: 0.5101\n",
            "Epoch 18/500\n",
            "1591/1591 [==============================] - 45s 29ms/step - loss: 0.4650 - acc: 0.7385 - val_loss: 0.9979 - val_acc: 0.5226\n",
            "Epoch 19/500\n",
            "1591/1591 [==============================] - 46s 29ms/step - loss: 0.4366 - acc: 0.7467 - val_loss: 1.0802 - val_acc: 0.5201\n",
            "Epoch 20/500\n",
            "1591/1591 [==============================] - 45s 28ms/step - loss: 0.4131 - acc: 0.7712 - val_loss: 1.1995 - val_acc: 0.4975\n",
            "Epoch 21/500\n",
            "1591/1591 [==============================] - 46s 29ms/step - loss: 0.3774 - acc: 0.8058 - val_loss: 1.2243 - val_acc: 0.5276\n",
            "Epoch 22/500\n",
            "1591/1591 [==============================] - 46s 29ms/step - loss: 0.3696 - acc: 0.8102 - val_loss: 1.1293 - val_acc: 0.4925\n",
            "Epoch 23/500\n",
            "1591/1591 [==============================] - 46s 29ms/step - loss: 0.3360 - acc: 0.8391 - val_loss: 1.2049 - val_acc: 0.4899\n",
            "Epoch 24/500\n",
            "1591/1591 [==============================] - 46s 29ms/step - loss: 0.3231 - acc: 0.8479 - val_loss: 1.2473 - val_acc: 0.5352\n",
            "Epoch 25/500\n",
            "1591/1591 [==============================] - 45s 29ms/step - loss: 0.2514 - acc: 0.8787 - val_loss: 1.4412 - val_acc: 0.5352\n",
            "Epoch 26/500\n",
            "1591/1591 [==============================] - 46s 29ms/step - loss: 0.2447 - acc: 0.8919 - val_loss: 1.5853 - val_acc: 0.5176\n",
            "Epoch 27/500\n",
            "1591/1591 [==============================] - 45s 28ms/step - loss: 0.1927 - acc: 0.9120 - val_loss: 1.8976 - val_acc: 0.4950\n",
            "Epoch 28/500\n",
            "1591/1591 [==============================] - 46s 29ms/step - loss: 0.1792 - acc: 0.9277 - val_loss: 1.7374 - val_acc: 0.5050\n",
            "Epoch 29/500\n",
            "1591/1591 [==============================] - 46s 29ms/step - loss: 0.2050 - acc: 0.9145 - val_loss: 1.4748 - val_acc: 0.5452\n",
            "Epoch 30/500\n",
            "1591/1591 [==============================] - 47s 29ms/step - loss: 0.1567 - acc: 0.9415 - val_loss: 2.0765 - val_acc: 0.5151\n",
            "Epoch 31/500\n",
            "1591/1591 [==============================] - 45s 29ms/step - loss: 0.1862 - acc: 0.9233 - val_loss: 1.4326 - val_acc: 0.5427\n",
            "Epoch 32/500\n",
            "1591/1591 [==============================] - 45s 29ms/step - loss: 0.1568 - acc: 0.9390 - val_loss: 2.2086 - val_acc: 0.5377\n",
            "Epoch 33/500\n",
            "1591/1591 [==============================] - 46s 29ms/step - loss: 0.1012 - acc: 0.9635 - val_loss: 1.7972 - val_acc: 0.5025\n",
            "Epoch 34/500\n",
            "1591/1591 [==============================] - 45s 28ms/step - loss: 0.0768 - acc: 0.9755 - val_loss: 2.0025 - val_acc: 0.5201\n",
            "Epoch 35/500\n",
            "1591/1591 [==============================] - 46s 29ms/step - loss: 0.0658 - acc: 0.9818 - val_loss: 1.8324 - val_acc: 0.5151\n",
            "Epoch 36/500\n",
            "1591/1591 [==============================] - 46s 29ms/step - loss: 0.0747 - acc: 0.9749 - val_loss: 2.0668 - val_acc: 0.5276\n",
            "Epoch 37/500\n",
            "1591/1591 [==============================] - 46s 29ms/step - loss: 0.0582 - acc: 0.9780 - val_loss: 1.9816 - val_acc: 0.5075\n",
            "Epoch 38/500\n",
            "1591/1591 [==============================] - 45s 28ms/step - loss: 0.1103 - acc: 0.9573 - val_loss: 1.8549 - val_acc: 0.5302\n",
            "Epoch 39/500\n",
            "1591/1591 [==============================] - 46s 29ms/step - loss: 0.0774 - acc: 0.9755 - val_loss: 1.7894 - val_acc: 0.5452\n",
            "Epoch 40/500\n",
            "1591/1591 [==============================] - 46s 29ms/step - loss: 0.0818 - acc: 0.9742 - val_loss: 1.9111 - val_acc: 0.5226\n",
            "Epoch 41/500\n",
            "1591/1591 [==============================] - 45s 28ms/step - loss: 0.0573 - acc: 0.9811 - val_loss: 1.8450 - val_acc: 0.5402\n",
            "Epoch 42/500\n",
            "1591/1591 [==============================] - 46s 29ms/step - loss: 0.0736 - acc: 0.9711 - val_loss: 2.2527 - val_acc: 0.5276\n",
            "Epoch 43/500\n",
            "1591/1591 [==============================] - 46s 29ms/step - loss: 0.0324 - acc: 0.9893 - val_loss: 2.2798 - val_acc: 0.5402\n",
            "Epoch 44/500\n",
            "1591/1591 [==============================] - 47s 29ms/step - loss: 0.0484 - acc: 0.9843 - val_loss: 2.2191 - val_acc: 0.5327\n",
            "Epoch 45/500\n",
            "1591/1591 [==============================] - 45s 28ms/step - loss: 0.0300 - acc: 0.9906 - val_loss: 2.0678 - val_acc: 0.5377\n",
            "Epoch 46/500\n",
            "1591/1591 [==============================] - 46s 29ms/step - loss: 0.0321 - acc: 0.9912 - val_loss: 2.3790 - val_acc: 0.5075\n",
            "Epoch 47/500\n",
            "1591/1591 [==============================] - 46s 29ms/step - loss: 0.0319 - acc: 0.9893 - val_loss: 2.3965 - val_acc: 0.5126\n",
            "Epoch 48/500\n",
            "1591/1591 [==============================] - 45s 28ms/step - loss: 0.0196 - acc: 0.9950 - val_loss: 2.5328 - val_acc: 0.5050\n",
            "Epoch 49/500\n",
            "1591/1591 [==============================] - 48s 30ms/step - loss: 0.0096 - acc: 0.9975 - val_loss: 2.5966 - val_acc: 0.5477\n",
            "Epoch 50/500\n",
            "1591/1591 [==============================] - 46s 29ms/step - loss: 0.0220 - acc: 0.9931 - val_loss: 2.2972 - val_acc: 0.5377\n",
            "Epoch 51/500\n",
            "1591/1591 [==============================] - 46s 29ms/step - loss: 0.0139 - acc: 0.9975 - val_loss: 2.9471 - val_acc: 0.5327\n",
            "Epoch 52/500\n",
            "1591/1591 [==============================] - 45s 28ms/step - loss: 0.0143 - acc: 0.9943 - val_loss: 2.6245 - val_acc: 0.5352\n",
            "Epoch 53/500\n",
            "1591/1591 [==============================] - 46s 29ms/step - loss: 0.0055 - acc: 0.9981 - val_loss: 3.1680 - val_acc: 0.5126\n",
            "Epoch 54/500\n",
            "1591/1591 [==============================] - 46s 29ms/step - loss: 0.0209 - acc: 0.9937 - val_loss: 2.4918 - val_acc: 0.5201\n",
            "Epoch 55/500\n",
            "1591/1591 [==============================] - 45s 28ms/step - loss: 0.0119 - acc: 0.9981 - val_loss: 2.3994 - val_acc: 0.5276\n",
            "Epoch 56/500\n",
            "1591/1591 [==============================] - 46s 29ms/step - loss: 0.0061 - acc: 0.9975 - val_loss: 3.0746 - val_acc: 0.5050\n",
            "Epoch 57/500\n",
            "1591/1591 [==============================] - 46s 29ms/step - loss: 0.0194 - acc: 0.9937 - val_loss: 2.5297 - val_acc: 0.5377\n",
            "Epoch 58/500\n",
            "1591/1591 [==============================] - 46s 29ms/step - loss: 0.0111 - acc: 0.9969 - val_loss: 2.6682 - val_acc: 0.5427\n",
            "Epoch 59/500\n",
            "1591/1591 [==============================] - 45s 28ms/step - loss: 0.0166 - acc: 0.9950 - val_loss: 2.6818 - val_acc: 0.5226\n",
            "Epoch 60/500\n",
            "1591/1591 [==============================] - 46s 29ms/step - loss: 0.0111 - acc: 0.9950 - val_loss: 2.8614 - val_acc: 0.5251\n",
            "Epoch 61/500\n",
            "1591/1591 [==============================] - 46s 29ms/step - loss: 0.0212 - acc: 0.9925 - val_loss: 2.4597 - val_acc: 0.5075\n",
            "Epoch 62/500\n",
            "1591/1591 [==============================] - 45s 28ms/step - loss: 0.0079 - acc: 0.9987 - val_loss: 2.5509 - val_acc: 0.5352\n",
            "Epoch 63/500\n",
            "1591/1591 [==============================] - 49s 31ms/step - loss: 0.0177 - acc: 0.9931 - val_loss: 2.5703 - val_acc: 0.5251\n",
            "Epoch 64/500\n",
            "1591/1591 [==============================] - 45s 28ms/step - loss: 0.0147 - acc: 0.9943 - val_loss: 2.5324 - val_acc: 0.5477\n",
            "Epoch 65/500\n",
            "1591/1591 [==============================] - 46s 29ms/step - loss: 0.0291 - acc: 0.9881 - val_loss: 2.8492 - val_acc: 0.5327\n",
            "Epoch 66/500\n",
            "1591/1591 [==============================] - 45s 29ms/step - loss: 0.0052 - acc: 0.9987 - val_loss: 2.2302 - val_acc: 0.5452\n",
            "Epoch 67/500\n",
            "1591/1591 [==============================] - 46s 29ms/step - loss: 0.0077 - acc: 0.9975 - val_loss: 2.7846 - val_acc: 0.5201\n",
            "Epoch 68/500\n",
            "1591/1591 [==============================] - 46s 29ms/step - loss: 9.1646e-04 - acc: 1.0000 - val_loss: 3.0309 - val_acc: 0.5352\n",
            "Epoch 69/500\n",
            "1591/1591 [==============================] - 45s 29ms/step - loss: 0.0586 - acc: 0.9818 - val_loss: 1.7968 - val_acc: 0.5251\n",
            "Epoch 70/500\n",
            "1591/1591 [==============================] - 48s 30ms/step - loss: 0.0075 - acc: 0.9975 - val_loss: 2.5883 - val_acc: 0.5377\n",
            "Epoch 71/500\n",
            "1591/1591 [==============================] - 45s 28ms/step - loss: 0.0015 - acc: 1.0000 - val_loss: 2.7142 - val_acc: 0.5427\n",
            "Epoch 72/500\n",
            "1591/1591 [==============================] - 46s 29ms/step - loss: 0.0010 - acc: 1.0000 - val_loss: 2.8388 - val_acc: 0.5402\n",
            "Epoch 73/500\n",
            "1591/1591 [==============================] - 45s 29ms/step - loss: 0.0201 - acc: 0.9918 - val_loss: 2.5831 - val_acc: 0.5226\n",
            "Epoch 74/500\n",
            "1591/1591 [==============================] - 46s 29ms/step - loss: 0.0094 - acc: 0.9975 - val_loss: 2.4263 - val_acc: 0.5553\n",
            "Epoch 75/500\n",
            "1591/1591 [==============================] - 46s 29ms/step - loss: 0.0110 - acc: 0.9975 - val_loss: 2.3395 - val_acc: 0.5352\n",
            "Epoch 76/500\n",
            "1591/1591 [==============================] - 47s 29ms/step - loss: 0.0090 - acc: 0.9981 - val_loss: 2.6141 - val_acc: 0.5201\n",
            "Epoch 77/500\n",
            "1591/1591 [==============================] - 47s 30ms/step - loss: 0.0031 - acc: 0.9987 - val_loss: 3.0694 - val_acc: 0.5251\n",
            "Epoch 78/500\n",
            "1591/1591 [==============================] - 45s 28ms/step - loss: 0.0120 - acc: 0.9969 - val_loss: 2.6510 - val_acc: 0.5251\n",
            "Epoch 79/500\n",
            "1591/1591 [==============================] - 46s 29ms/step - loss: 0.0104 - acc: 0.9956 - val_loss: 3.0168 - val_acc: 0.5251\n",
            "Epoch 80/500\n",
            "1591/1591 [==============================] - 46s 29ms/step - loss: 0.0264 - acc: 0.9899 - val_loss: 3.3031 - val_acc: 0.5327\n",
            "Epoch 81/500\n",
            "1591/1591 [==============================] - 46s 29ms/step - loss: 0.0255 - acc: 0.9899 - val_loss: 2.5194 - val_acc: 0.4925\n",
            "Epoch 82/500\n",
            "1591/1591 [==============================] - 46s 29ms/step - loss: 0.0205 - acc: 0.9943 - val_loss: 2.5105 - val_acc: 0.4950\n",
            "Epoch 83/500\n",
            "1591/1591 [==============================] - 47s 30ms/step - loss: 0.0107 - acc: 0.9975 - val_loss: 2.5225 - val_acc: 0.5201\n",
            "Epoch 84/500\n",
            "1591/1591 [==============================] - 46s 29ms/step - loss: 0.0048 - acc: 0.9987 - val_loss: 2.8625 - val_acc: 0.5201\n",
            "Epoch 85/500\n",
            "1591/1591 [==============================] - 45s 28ms/step - loss: 0.0065 - acc: 0.9975 - val_loss: 2.9135 - val_acc: 0.5327\n",
            "Epoch 86/500\n",
            "1591/1591 [==============================] - 46s 29ms/step - loss: 0.0044 - acc: 0.9987 - val_loss: 2.9262 - val_acc: 0.5201\n",
            "Epoch 87/500\n",
            "1591/1591 [==============================] - 46s 29ms/step - loss: 0.0068 - acc: 0.9987 - val_loss: 2.8447 - val_acc: 0.5352\n",
            "Epoch 88/500\n",
            "1591/1591 [==============================] - 46s 29ms/step - loss: 0.0150 - acc: 0.9969 - val_loss: 2.5239 - val_acc: 0.5000\n",
            "Epoch 89/500\n",
            "1591/1591 [==============================] - 46s 29ms/step - loss: 9.5074e-04 - acc: 1.0000 - val_loss: 2.7735 - val_acc: 0.5226\n",
            "Epoch 90/500\n",
            "1591/1591 [==============================] - 47s 30ms/step - loss: 0.0059 - acc: 0.9994 - val_loss: 2.6379 - val_acc: 0.5176\n",
            "Epoch 91/500\n",
            "1591/1591 [==============================] - 46s 29ms/step - loss: 8.4444e-04 - acc: 1.0000 - val_loss: 2.8239 - val_acc: 0.5050\n",
            "Epoch 92/500\n",
            "1591/1591 [==============================] - 45s 28ms/step - loss: 0.0057 - acc: 0.9987 - val_loss: 2.9074 - val_acc: 0.5402\n",
            "Epoch 93/500\n",
            "1591/1591 [==============================] - 46s 29ms/step - loss: 0.0113 - acc: 0.9962 - val_loss: 2.4575 - val_acc: 0.5075\n",
            "Epoch 94/500\n",
            "1591/1591 [==============================] - 46s 29ms/step - loss: 0.0050 - acc: 0.9994 - val_loss: 2.8375 - val_acc: 0.5276\n",
            "Epoch 95/500\n",
            "1591/1591 [==============================] - 45s 29ms/step - loss: 0.0136 - acc: 0.9975 - val_loss: 2.6473 - val_acc: 0.5126\n",
            "Epoch 96/500\n",
            "1591/1591 [==============================] - 47s 30ms/step - loss: 0.0240 - acc: 0.9918 - val_loss: 2.5835 - val_acc: 0.5101\n",
            "Epoch 97/500\n",
            "1591/1591 [==============================] - 46s 29ms/step - loss: 0.0043 - acc: 0.9981 - val_loss: 2.7812 - val_acc: 0.5075\n",
            "Epoch 98/500\n",
            "1591/1591 [==============================] - 46s 29ms/step - loss: 0.0066 - acc: 0.9975 - val_loss: 2.8982 - val_acc: 0.5075\n",
            "Epoch 99/500\n",
            "1591/1591 [==============================] - 45s 28ms/step - loss: 0.0038 - acc: 0.9987 - val_loss: 2.9511 - val_acc: 0.4899\n",
            "Epoch 100/500\n",
            "1591/1591 [==============================] - 46s 29ms/step - loss: 5.2419e-04 - acc: 1.0000 - val_loss: 3.0840 - val_acc: 0.5000\n",
            "Epoch 101/500\n",
            "1591/1591 [==============================] - 46s 29ms/step - loss: 7.0001e-04 - acc: 1.0000 - val_loss: 3.2995 - val_acc: 0.5025\n",
            "Epoch 102/500\n",
            "1591/1591 [==============================] - 45s 28ms/step - loss: 1.5700e-04 - acc: 1.0000 - val_loss: 3.3822 - val_acc: 0.5126\n",
            "Epoch 103/500\n",
            "1591/1591 [==============================] - 47s 30ms/step - loss: 5.3316e-04 - acc: 1.0000 - val_loss: 3.4718 - val_acc: 0.5050\n",
            "Epoch 104/500\n",
            "1591/1591 [==============================] - 45s 28ms/step - loss: 0.3678 - acc: 0.8234 - val_loss: 0.8185 - val_acc: 0.5176\n",
            "Epoch 105/500\n",
            "1591/1591 [==============================] - 46s 29ms/step - loss: 0.5375 - acc: 0.6618 - val_loss: 0.8902 - val_acc: 0.5226\n",
            "Epoch 106/500\n",
            "1591/1591 [==============================] - 45s 28ms/step - loss: 0.6159 - acc: 0.6530 - val_loss: 0.8306 - val_acc: 0.4698\n",
            "Epoch 107/500\n",
            "1591/1591 [==============================] - 48s 30ms/step - loss: 0.5385 - acc: 0.6644 - val_loss: 1.1493 - val_acc: 0.5075\n",
            "Epoch 108/500\n",
            "1591/1591 [==============================] - 48s 30ms/step - loss: 0.5980 - acc: 0.6713 - val_loss: 0.8359 - val_acc: 0.5327\n",
            "Epoch 109/500\n",
            "1591/1591 [==============================] - 45s 28ms/step - loss: 0.5004 - acc: 0.6889 - val_loss: 1.0694 - val_acc: 0.4975\n",
            "Epoch 110/500\n",
            "1591/1591 [==============================] - 49s 31ms/step - loss: 0.8162 - acc: 0.6229 - val_loss: 0.7082 - val_acc: 0.5050\n",
            "Epoch 111/500\n",
            "1591/1591 [==============================] - 45s 28ms/step - loss: 0.5824 - acc: 0.6367 - val_loss: 0.7471 - val_acc: 0.5101\n",
            "Epoch 112/500\n",
            "1591/1591 [==============================] - 46s 29ms/step - loss: 0.2955 - acc: 0.8630 - val_loss: 1.6138 - val_acc: 0.5528\n",
            "Epoch 113/500\n",
            "1591/1591 [==============================] - 45s 28ms/step - loss: 0.0151 - acc: 0.9950 - val_loss: 1.9971 - val_acc: 0.5302\n",
            "Epoch 114/500\n",
            " 300/1591 [====>.........................] - ETA: 39s - loss: 0.0208 - acc: 0.9933"
          ],
          "name": "stdout"
        }
      ]
    },
    {
      "cell_type": "code",
      "metadata": {
        "id": "QdNPvtujSheZ",
        "colab_type": "code",
        "colab": {}
      },
      "source": [
        "from sklearn.metrics import roc_curve\n",
        "y_pred_keras = model.predict(X_test_indices).ravel()\n",
        "fpr_keras, tpr_keras, thresholds_keras = roc_curve(y_test, y_pred_keras)"
      ],
      "execution_count": 0,
      "outputs": []
    },
    {
      "cell_type": "code",
      "metadata": {
        "id": "3EpHSzv9SklQ",
        "colab_type": "code",
        "colab": {}
      },
      "source": [
        "from sklearn.metrics import auc\n",
        "auc_keras = auc(fpr_keras, tpr_keras)"
      ],
      "execution_count": 0,
      "outputs": []
    },
    {
      "cell_type": "code",
      "metadata": {
        "id": "WSNzjmgrSoOk",
        "colab_type": "code",
        "outputId": "0a284d01-376e-44a1-81eb-3185c52082db",
        "colab": {
          "base_uri": "https://localhost:8080/",
          "height": 295
        }
      },
      "source": [
        "import matplotlib.pyplot as plt\n",
        "plt.figure(1)\n",
        "plt.plot([0, 1], [0, 1], 'k--')\n",
        "plt.plot(fpr_keras, tpr_keras, label='Keras (area = {:.3f})'.format(auc_keras))\n",
        "plt.xlabel('False positive rate')\n",
        "plt.ylabel('True positive rate')\n",
        "plt.title('ROC curve')\n",
        "plt.legend(loc='best')\n",
        "plt.show()"
      ],
      "execution_count": 0,
      "outputs": [
        {
          "output_type": "display_data",
          "data": {
            "image/png": "[encoded data removed]",
            "text/plain": [
              "<Figure size 432x288 with 1 Axes>"
            ]
          },
          "metadata": {
            "tags": []
          }
        }
      ]
    }
  ]
}